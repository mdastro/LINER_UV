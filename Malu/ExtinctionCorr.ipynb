{
 "cells": [
  {
   "cell_type": "markdown",
   "id": "7919bd93",
   "metadata": {},
   "source": [
    "# Libraries"
   ]
  },
  {
   "cell_type": "code",
   "execution_count": 1,
   "id": "aa10c481",
   "metadata": {},
   "outputs": [],
   "source": [
    "import numpy  as np\n",
    "import pandas as pd\n",
    "import pyneb  as pn\n",
    "from astropy.cosmology import FlatLambdaCDM\n",
    "from astropy.constants import c"
   ]
  },
  {
   "cell_type": "markdown",
   "id": "1410d7fe",
   "metadata": {},
   "source": [
    "# Data"
   ]
  },
  {
   "cell_type": "code",
   "execution_count": 2,
   "id": "20c5394c",
   "metadata": {},
   "outputs": [],
   "source": [
    "data = pd.read_csv(\"../../Data/Matches/Attempt02/GALEXFUV_to_SPIRE500_VACs.csv\")"
   ]
  },
  {
   "cell_type": "code",
   "execution_count": 3,
   "id": "00d7c38b",
   "metadata": {},
   "outputs": [],
   "source": [
    "c_cgs = c.to('angstrom/s').value"
   ]
  },
  {
   "cell_type": "code",
   "execution_count": 4,
   "id": "a243257e",
   "metadata": {},
   "outputs": [],
   "source": [
    "flux_keys = ['CATAID']\n",
    "for i in data.keys():\n",
    "    if str(i).split('_')[0]=='DFAflux':\n",
    "        flux_keys.append(i)\n",
    "    else:\n",
    "        continue"
   ]
  },
  {
   "cell_type": "code",
   "execution_count": 5,
   "id": "d66b37ec",
   "metadata": {},
   "outputs": [
    {
     "data": {
      "text/plain": [
       "['CATAID',\n",
       " 'DFAflux_GALEXFUV',\n",
       " 'DFAflux_GALEXNUV',\n",
       " 'DFAflux_SDSSu',\n",
       " 'DFAflux_SDSSg',\n",
       " 'DFAflux_SDSSr',\n",
       " 'DFAflux_SDSSi',\n",
       " 'DFAflux_SDSSz',\n",
       " 'DFAflux_VIKINGZ',\n",
       " 'DFAflux_VIKINGY',\n",
       " 'DFAflux_VIKINGJ',\n",
       " 'DFAflux_VIKINGH',\n",
       " 'DFAflux_VIKINGK',\n",
       " 'DFAflux_WISEW1',\n",
       " 'DFAflux_WISEW2',\n",
       " 'DFAflux_WISEW3',\n",
       " 'DFAflux_WISEW4',\n",
       " 'DFAflux_PACS100',\n",
       " 'DFAflux_PACS160',\n",
       " 'DFAflux_SPIRE250',\n",
       " 'DFAflux_SPIRE350',\n",
       " 'DFAflux_SPIRE500']"
      ]
     },
     "execution_count": 5,
     "metadata": {},
     "output_type": "execute_result"
    }
   ],
   "source": [
    "flux_keys"
   ]
  },
  {
   "cell_type": "code",
   "execution_count": 6,
   "id": "b67ad775",
   "metadata": {},
   "outputs": [],
   "source": [
    "fluxes = data[flux_keys]"
   ]
  },
  {
   "cell_type": "code",
   "execution_count": 7,
   "id": "a236bbf0",
   "metadata": {},
   "outputs": [
    {
     "data": {
      "text/html": [
       "<div>\n",
       "<style scoped>\n",
       "    .dataframe tbody tr th:only-of-type {\n",
       "        vertical-align: middle;\n",
       "    }\n",
       "\n",
       "    .dataframe tbody tr th {\n",
       "        vertical-align: top;\n",
       "    }\n",
       "\n",
       "    .dataframe thead th {\n",
       "        text-align: right;\n",
       "    }\n",
       "</style>\n",
       "<table border=\"1\" class=\"dataframe\">\n",
       "  <thead>\n",
       "    <tr style=\"text-align: right;\">\n",
       "      <th></th>\n",
       "      <th>CATAID</th>\n",
       "      <th>DFAflux_GALEXFUV</th>\n",
       "      <th>DFAflux_GALEXNUV</th>\n",
       "      <th>DFAflux_SDSSu</th>\n",
       "      <th>DFAflux_SDSSg</th>\n",
       "      <th>DFAflux_SDSSr</th>\n",
       "      <th>DFAflux_SDSSi</th>\n",
       "      <th>DFAflux_SDSSz</th>\n",
       "      <th>DFAflux_VIKINGZ</th>\n",
       "      <th>DFAflux_VIKINGY</th>\n",
       "      <th>...</th>\n",
       "      <th>DFAflux_VIKINGK</th>\n",
       "      <th>DFAflux_WISEW1</th>\n",
       "      <th>DFAflux_WISEW2</th>\n",
       "      <th>DFAflux_WISEW3</th>\n",
       "      <th>DFAflux_WISEW4</th>\n",
       "      <th>DFAflux_PACS100</th>\n",
       "      <th>DFAflux_PACS160</th>\n",
       "      <th>DFAflux_SPIRE250</th>\n",
       "      <th>DFAflux_SPIRE350</th>\n",
       "      <th>DFAflux_SPIRE500</th>\n",
       "    </tr>\n",
       "  </thead>\n",
       "  <tbody>\n",
       "    <tr>\n",
       "      <th>0</th>\n",
       "      <td>100000</td>\n",
       "      <td>2.479260e-06</td>\n",
       "      <td>6.378730e-06</td>\n",
       "      <td>1.337119e-05</td>\n",
       "      <td>0.000021</td>\n",
       "      <td>0.000043</td>\n",
       "      <td>0.000059</td>\n",
       "      <td>0.000067</td>\n",
       "      <td>0.000069</td>\n",
       "      <td>0.000075</td>\n",
       "      <td>...</td>\n",
       "      <td>0.000108</td>\n",
       "      <td>0.000098</td>\n",
       "      <td>0.000072</td>\n",
       "      <td>0.000094</td>\n",
       "      <td>0.000000</td>\n",
       "      <td>0.000000</td>\n",
       "      <td>0.000000</td>\n",
       "      <td>0.006759</td>\n",
       "      <td>0.000000</td>\n",
       "      <td>0.000000</td>\n",
       "    </tr>\n",
       "    <tr>\n",
       "      <th>1</th>\n",
       "      <td>100001</td>\n",
       "      <td>0.000000e+00</td>\n",
       "      <td>9.895305e-07</td>\n",
       "      <td>4.222367e-06</td>\n",
       "      <td>0.000018</td>\n",
       "      <td>0.000050</td>\n",
       "      <td>0.000074</td>\n",
       "      <td>0.000104</td>\n",
       "      <td>0.000103</td>\n",
       "      <td>0.000129</td>\n",
       "      <td>...</td>\n",
       "      <td>0.000318</td>\n",
       "      <td>0.000202</td>\n",
       "      <td>0.000218</td>\n",
       "      <td>0.001203</td>\n",
       "      <td>0.000000</td>\n",
       "      <td>0.089864</td>\n",
       "      <td>0.026525</td>\n",
       "      <td>0.035274</td>\n",
       "      <td>0.003186</td>\n",
       "      <td>0.000000</td>\n",
       "    </tr>\n",
       "    <tr>\n",
       "      <th>2</th>\n",
       "      <td>100002</td>\n",
       "      <td>1.556696e-06</td>\n",
       "      <td>9.036412e-06</td>\n",
       "      <td>3.838651e-05</td>\n",
       "      <td>0.000103</td>\n",
       "      <td>0.000264</td>\n",
       "      <td>0.000414</td>\n",
       "      <td>0.000556</td>\n",
       "      <td>0.000529</td>\n",
       "      <td>0.000662</td>\n",
       "      <td>...</td>\n",
       "      <td>0.001180</td>\n",
       "      <td>0.000546</td>\n",
       "      <td>0.000392</td>\n",
       "      <td>0.000448</td>\n",
       "      <td>0.000174</td>\n",
       "      <td>0.006510</td>\n",
       "      <td>0.081027</td>\n",
       "      <td>0.013107</td>\n",
       "      <td>0.012883</td>\n",
       "      <td>0.000000</td>\n",
       "    </tr>\n",
       "    <tr>\n",
       "      <th>3</th>\n",
       "      <td>100003</td>\n",
       "      <td>5.865144e-06</td>\n",
       "      <td>1.171413e-05</td>\n",
       "      <td>1.168522e-05</td>\n",
       "      <td>0.000036</td>\n",
       "      <td>0.000076</td>\n",
       "      <td>0.000120</td>\n",
       "      <td>0.000114</td>\n",
       "      <td>0.000119</td>\n",
       "      <td>0.000121</td>\n",
       "      <td>...</td>\n",
       "      <td>0.000294</td>\n",
       "      <td>0.000158</td>\n",
       "      <td>0.000141</td>\n",
       "      <td>0.000629</td>\n",
       "      <td>0.000646</td>\n",
       "      <td>0.060879</td>\n",
       "      <td>0.032180</td>\n",
       "      <td>0.020626</td>\n",
       "      <td>0.009386</td>\n",
       "      <td>0.000000</td>\n",
       "    </tr>\n",
       "    <tr>\n",
       "      <th>4</th>\n",
       "      <td>100004</td>\n",
       "      <td>1.493697e-05</td>\n",
       "      <td>2.035565e-05</td>\n",
       "      <td>2.915837e-05</td>\n",
       "      <td>0.000057</td>\n",
       "      <td>0.000075</td>\n",
       "      <td>0.000102</td>\n",
       "      <td>0.000090</td>\n",
       "      <td>0.000100</td>\n",
       "      <td>0.000113</td>\n",
       "      <td>...</td>\n",
       "      <td>0.000105</td>\n",
       "      <td>0.000076</td>\n",
       "      <td>0.000053</td>\n",
       "      <td>0.000074</td>\n",
       "      <td>0.002108</td>\n",
       "      <td>0.000000</td>\n",
       "      <td>0.000000</td>\n",
       "      <td>0.000000</td>\n",
       "      <td>0.000000</td>\n",
       "      <td>0.000000</td>\n",
       "    </tr>\n",
       "    <tr>\n",
       "      <th>...</th>\n",
       "      <td>...</td>\n",
       "      <td>...</td>\n",
       "      <td>...</td>\n",
       "      <td>...</td>\n",
       "      <td>...</td>\n",
       "      <td>...</td>\n",
       "      <td>...</td>\n",
       "      <td>...</td>\n",
       "      <td>...</td>\n",
       "      <td>...</td>\n",
       "      <td>...</td>\n",
       "      <td>...</td>\n",
       "      <td>...</td>\n",
       "      <td>...</td>\n",
       "      <td>...</td>\n",
       "      <td>...</td>\n",
       "      <td>...</td>\n",
       "      <td>...</td>\n",
       "      <td>...</td>\n",
       "      <td>...</td>\n",
       "      <td>...</td>\n",
       "    </tr>\n",
       "    <tr>\n",
       "      <th>119463</th>\n",
       "      <td>3021558</td>\n",
       "      <td>2.274809e-07</td>\n",
       "      <td>9.405971e-06</td>\n",
       "      <td>8.662228e-06</td>\n",
       "      <td>0.000012</td>\n",
       "      <td>0.000042</td>\n",
       "      <td>0.000064</td>\n",
       "      <td>0.000085</td>\n",
       "      <td>0.000087</td>\n",
       "      <td>0.000216</td>\n",
       "      <td>...</td>\n",
       "      <td>0.000238</td>\n",
       "      <td>0.000122</td>\n",
       "      <td>0.000094</td>\n",
       "      <td>0.000000</td>\n",
       "      <td>0.000539</td>\n",
       "      <td>0.000000</td>\n",
       "      <td>0.000000</td>\n",
       "      <td>0.000000</td>\n",
       "      <td>0.015801</td>\n",
       "      <td>0.002306</td>\n",
       "    </tr>\n",
       "    <tr>\n",
       "      <th>119464</th>\n",
       "      <td>3021559</td>\n",
       "      <td>0.000000e+00</td>\n",
       "      <td>1.346297e-06</td>\n",
       "      <td>0.000000e+00</td>\n",
       "      <td>0.000006</td>\n",
       "      <td>0.000024</td>\n",
       "      <td>0.000036</td>\n",
       "      <td>0.000052</td>\n",
       "      <td>0.000183</td>\n",
       "      <td>0.000469</td>\n",
       "      <td>...</td>\n",
       "      <td>0.000103</td>\n",
       "      <td>0.000096</td>\n",
       "      <td>0.000064</td>\n",
       "      <td>0.000011</td>\n",
       "      <td>0.000000</td>\n",
       "      <td>0.004786</td>\n",
       "      <td>0.000000</td>\n",
       "      <td>0.016270</td>\n",
       "      <td>0.008133</td>\n",
       "      <td>0.016168</td>\n",
       "    </tr>\n",
       "    <tr>\n",
       "      <th>119465</th>\n",
       "      <td>302156</td>\n",
       "      <td>1.878590e-06</td>\n",
       "      <td>1.038612e-06</td>\n",
       "      <td>9.817277e-07</td>\n",
       "      <td>0.000017</td>\n",
       "      <td>0.000052</td>\n",
       "      <td>0.000078</td>\n",
       "      <td>0.000114</td>\n",
       "      <td>0.000179</td>\n",
       "      <td>0.010044</td>\n",
       "      <td>...</td>\n",
       "      <td>0.000258</td>\n",
       "      <td>0.000151</td>\n",
       "      <td>0.000120</td>\n",
       "      <td>0.000112</td>\n",
       "      <td>0.000027</td>\n",
       "      <td>0.027805</td>\n",
       "      <td>0.059693</td>\n",
       "      <td>0.025688</td>\n",
       "      <td>0.007412</td>\n",
       "      <td>0.018538</td>\n",
       "    </tr>\n",
       "    <tr>\n",
       "      <th>119466</th>\n",
       "      <td>3021560</td>\n",
       "      <td>0.000000e+00</td>\n",
       "      <td>1.656321e-06</td>\n",
       "      <td>7.633434e-06</td>\n",
       "      <td>0.000022</td>\n",
       "      <td>0.000051</td>\n",
       "      <td>0.000076</td>\n",
       "      <td>0.000114</td>\n",
       "      <td>0.000081</td>\n",
       "      <td>0.000373</td>\n",
       "      <td>...</td>\n",
       "      <td>0.000173</td>\n",
       "      <td>0.000055</td>\n",
       "      <td>0.000026</td>\n",
       "      <td>0.000000</td>\n",
       "      <td>0.000000</td>\n",
       "      <td>0.000000</td>\n",
       "      <td>0.036370</td>\n",
       "      <td>0.031153</td>\n",
       "      <td>0.000000</td>\n",
       "      <td>0.002181</td>\n",
       "    </tr>\n",
       "    <tr>\n",
       "      <th>119467</th>\n",
       "      <td>3021561</td>\n",
       "      <td>1.676689e-06</td>\n",
       "      <td>7.259545e-07</td>\n",
       "      <td>1.008292e-05</td>\n",
       "      <td>0.000034</td>\n",
       "      <td>0.000081</td>\n",
       "      <td>0.000123</td>\n",
       "      <td>0.000159</td>\n",
       "      <td>0.000088</td>\n",
       "      <td>0.000549</td>\n",
       "      <td>...</td>\n",
       "      <td>0.000299</td>\n",
       "      <td>0.000125</td>\n",
       "      <td>0.000081</td>\n",
       "      <td>0.000244</td>\n",
       "      <td>0.000955</td>\n",
       "      <td>0.000000</td>\n",
       "      <td>0.013907</td>\n",
       "      <td>0.014104</td>\n",
       "      <td>0.016217</td>\n",
       "      <td>0.006843</td>\n",
       "    </tr>\n",
       "  </tbody>\n",
       "</table>\n",
       "<p>119468 rows × 22 columns</p>\n",
       "</div>"
      ],
      "text/plain": [
       "         CATAID  DFAflux_GALEXFUV  DFAflux_GALEXNUV  DFAflux_SDSSu  \\\n",
       "0        100000      2.479260e-06      6.378730e-06   1.337119e-05   \n",
       "1        100001      0.000000e+00      9.895305e-07   4.222367e-06   \n",
       "2        100002      1.556696e-06      9.036412e-06   3.838651e-05   \n",
       "3        100003      5.865144e-06      1.171413e-05   1.168522e-05   \n",
       "4        100004      1.493697e-05      2.035565e-05   2.915837e-05   \n",
       "...         ...               ...               ...            ...   \n",
       "119463  3021558      2.274809e-07      9.405971e-06   8.662228e-06   \n",
       "119464  3021559      0.000000e+00      1.346297e-06   0.000000e+00   \n",
       "119465   302156      1.878590e-06      1.038612e-06   9.817277e-07   \n",
       "119466  3021560      0.000000e+00      1.656321e-06   7.633434e-06   \n",
       "119467  3021561      1.676689e-06      7.259545e-07   1.008292e-05   \n",
       "\n",
       "        DFAflux_SDSSg  DFAflux_SDSSr  DFAflux_SDSSi  DFAflux_SDSSz  \\\n",
       "0            0.000021       0.000043       0.000059       0.000067   \n",
       "1            0.000018       0.000050       0.000074       0.000104   \n",
       "2            0.000103       0.000264       0.000414       0.000556   \n",
       "3            0.000036       0.000076       0.000120       0.000114   \n",
       "4            0.000057       0.000075       0.000102       0.000090   \n",
       "...               ...            ...            ...            ...   \n",
       "119463       0.000012       0.000042       0.000064       0.000085   \n",
       "119464       0.000006       0.000024       0.000036       0.000052   \n",
       "119465       0.000017       0.000052       0.000078       0.000114   \n",
       "119466       0.000022       0.000051       0.000076       0.000114   \n",
       "119467       0.000034       0.000081       0.000123       0.000159   \n",
       "\n",
       "        DFAflux_VIKINGZ  DFAflux_VIKINGY  ...  DFAflux_VIKINGK  \\\n",
       "0              0.000069         0.000075  ...         0.000108   \n",
       "1              0.000103         0.000129  ...         0.000318   \n",
       "2              0.000529         0.000662  ...         0.001180   \n",
       "3              0.000119         0.000121  ...         0.000294   \n",
       "4              0.000100         0.000113  ...         0.000105   \n",
       "...                 ...              ...  ...              ...   \n",
       "119463         0.000087         0.000216  ...         0.000238   \n",
       "119464         0.000183         0.000469  ...         0.000103   \n",
       "119465         0.000179         0.010044  ...         0.000258   \n",
       "119466         0.000081         0.000373  ...         0.000173   \n",
       "119467         0.000088         0.000549  ...         0.000299   \n",
       "\n",
       "        DFAflux_WISEW1  DFAflux_WISEW2  DFAflux_WISEW3  DFAflux_WISEW4  \\\n",
       "0             0.000098        0.000072        0.000094        0.000000   \n",
       "1             0.000202        0.000218        0.001203        0.000000   \n",
       "2             0.000546        0.000392        0.000448        0.000174   \n",
       "3             0.000158        0.000141        0.000629        0.000646   \n",
       "4             0.000076        0.000053        0.000074        0.002108   \n",
       "...                ...             ...             ...             ...   \n",
       "119463        0.000122        0.000094        0.000000        0.000539   \n",
       "119464        0.000096        0.000064        0.000011        0.000000   \n",
       "119465        0.000151        0.000120        0.000112        0.000027   \n",
       "119466        0.000055        0.000026        0.000000        0.000000   \n",
       "119467        0.000125        0.000081        0.000244        0.000955   \n",
       "\n",
       "        DFAflux_PACS100  DFAflux_PACS160  DFAflux_SPIRE250  DFAflux_SPIRE350  \\\n",
       "0              0.000000         0.000000          0.006759          0.000000   \n",
       "1              0.089864         0.026525          0.035274          0.003186   \n",
       "2              0.006510         0.081027          0.013107          0.012883   \n",
       "3              0.060879         0.032180          0.020626          0.009386   \n",
       "4              0.000000         0.000000          0.000000          0.000000   \n",
       "...                 ...              ...               ...               ...   \n",
       "119463         0.000000         0.000000          0.000000          0.015801   \n",
       "119464         0.004786         0.000000          0.016270          0.008133   \n",
       "119465         0.027805         0.059693          0.025688          0.007412   \n",
       "119466         0.000000         0.036370          0.031153          0.000000   \n",
       "119467         0.000000         0.013907          0.014104          0.016217   \n",
       "\n",
       "        DFAflux_SPIRE500  \n",
       "0               0.000000  \n",
       "1               0.000000  \n",
       "2               0.000000  \n",
       "3               0.000000  \n",
       "4               0.000000  \n",
       "...                  ...  \n",
       "119463          0.002306  \n",
       "119464          0.016168  \n",
       "119465          0.018538  \n",
       "119466          0.002181  \n",
       "119467          0.006843  \n",
       "\n",
       "[119468 rows x 22 columns]"
      ]
     },
     "execution_count": 7,
     "metadata": {},
     "output_type": "execute_result"
    }
   ],
   "source": [
    "fluxes"
   ]
  },
  {
   "cell_type": "markdown",
   "id": "90adb39d",
   "metadata": {},
   "source": [
    "### Effective wavelengths"
   ]
  },
  {
   "cell_type": "markdown",
   "id": "fd96c3d5",
   "metadata": {},
   "source": [
    "Source for GALEX, SDSS, UKIDSS: https://www.astro.ljmu.ac.uk/~ikb/research/mags-fluxes/"
   ]
  },
  {
   "cell_type": "markdown",
   "id": "3840c015",
   "metadata": {},
   "source": [
    "#### GALEX"
   ]
  },
  {
   "cell_type": "code",
   "execution_count": 8,
   "id": "08ded6e7",
   "metadata": {},
   "outputs": [],
   "source": [
    "galex_fuv_nuv = [1535., 2301.]"
   ]
  },
  {
   "cell_type": "markdown",
   "id": "94398031",
   "metadata": {},
   "source": [
    "#### SDSS"
   ]
  },
  {
   "cell_type": "code",
   "execution_count": 9,
   "id": "b2656d55",
   "metadata": {},
   "outputs": [],
   "source": [
    "sdss_ugriz    = [3557., 4702., 6175., 7491., 8946.]"
   ]
  },
  {
   "cell_type": "markdown",
   "id": "39893743",
   "metadata": {},
   "source": [
    "#### VISTA"
   ]
  },
  {
   "cell_type": "markdown",
   "id": "55911228",
   "metadata": {},
   "source": [
    "Source for VISTA/VIKING: http://casu.ast.cam.ac.uk/surveys-projects/vista/technical/filter-set"
   ]
  },
  {
   "cell_type": "code",
   "execution_count": 10,
   "id": "80819b1b",
   "metadata": {},
   "outputs": [],
   "source": [
    "vista_zyjhk_micron = [0.878, 1.021, 1.254, 1.646, 2.149, 1.191]"
   ]
  },
  {
   "cell_type": "code",
   "execution_count": 11,
   "id": "23476ec1",
   "metadata": {},
   "outputs": [],
   "source": [
    "vista_zyjhk = list(np.round(np.array(vista_zyjhk_micron)*(10**4), 1))       # transforming to angstroms"
   ]
  },
  {
   "cell_type": "code",
   "execution_count": 12,
   "id": "6a281dd8",
   "metadata": {},
   "outputs": [
    {
     "data": {
      "text/plain": [
       "[8780.0, 10210.0, 12540.0, 16460.0, 21490.0, 11910.0]"
      ]
     },
     "execution_count": 12,
     "metadata": {},
     "output_type": "execute_result"
    }
   ],
   "source": [
    "vista_zyjhk"
   ]
  },
  {
   "cell_type": "markdown",
   "id": "653913e6",
   "metadata": {},
   "source": [
    "#### WISE"
   ]
  },
  {
   "cell_type": "markdown",
   "id": "7476c7ea",
   "metadata": {},
   "source": [
    "Source for WISE: http://www.astro.ucla.edu/~wright/WISE/passbands.html"
   ]
  },
  {
   "cell_type": "code",
   "execution_count": 13,
   "id": "2eee68b8",
   "metadata": {},
   "outputs": [],
   "source": [
    "wise_w1234_micron = [3.368, 4.618, 12.082, 22.194]"
   ]
  },
  {
   "cell_type": "code",
   "execution_count": 14,
   "id": "043cd3f0",
   "metadata": {},
   "outputs": [],
   "source": [
    "wise_w1234 = list(np.round(np.array(wise_w1234_micron)*(10**4), 1))"
   ]
  },
  {
   "cell_type": "markdown",
   "id": "0764b8dd",
   "metadata": {},
   "source": [
    "#### Herschel "
   ]
  },
  {
   "cell_type": "markdown",
   "id": "7aba73ea",
   "metadata": {},
   "source": [
    "SPIRE"
   ]
  },
  {
   "cell_type": "code",
   "execution_count": null,
   "id": "3d4611dd",
   "metadata": {},
   "outputs": [],
   "source": []
  },
  {
   "cell_type": "markdown",
   "id": "27e24cfe",
   "metadata": {},
   "source": [
    "PACS"
   ]
  },
  {
   "cell_type": "code",
   "execution_count": null,
   "id": "10786e4b",
   "metadata": {},
   "outputs": [],
   "source": []
  }
 ],
 "metadata": {
  "kernelspec": {
   "display_name": "Python 3",
   "language": "python",
   "name": "python3"
  },
  "language_info": {
   "codemirror_mode": {
    "name": "ipython",
    "version": 3
   },
   "file_extension": ".py",
   "mimetype": "text/x-python",
   "name": "python",
   "nbconvert_exporter": "python",
   "pygments_lexer": "ipython3",
   "version": "3.8.10"
  }
 },
 "nbformat": 4,
 "nbformat_minor": 5
}
